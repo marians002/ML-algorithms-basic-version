{
 "cells": [
  {
   "metadata": {},
   "cell_type": "markdown",
   "source": "# Algorithm: Naive Bayes",
   "id": "3b55bd9a17996f87"
  },
  {
   "metadata": {},
   "cell_type": "markdown",
   "source": [
    " Implementación de Naive Bayes para clasificación de texto. \n",
    " \n",
    "Recomendado para detectar spam e identificar el idioma de un texto.\n",
    " \n",
    "El algoritmo asume que las características son independientes entre sí."
   ],
   "id": "683995a788953450"
  },
  {
   "cell_type": "code",
   "id": "67835a8fb9eecc94",
   "metadata": {
    "collapsed": true,
    "ExecuteTime": {
     "end_time": "2024-12-05T16:23:08.455383Z",
     "start_time": "2024-12-05T16:23:08.436066Z"
    }
   },
   "source": [
    "import numpy as np\n",
    "import kagglehub as kh\n",
    "import pandas as pd\n",
    "from sklearn.model_selection import train_test_split\n",
    "from sklearn.metrics import accuracy_score\n",
    "\n",
    "\n",
    "def naive_bayes(X_train, y_train, X_test):\n",
    "    # Inicializar las probabilidades\n",
    "    classes = np.unique(y_train)\n",
    "    probs = {}\n",
    "    for c in classes:\n",
    "        probs[c] = {}\n",
    "        # Calcular la probabilidad inicial\n",
    "        # (contar el número de instancias de cada clase y dividirlo por el total)\n",
    "        probs[c]['initial'] = np.sum(y_train == c) / len(y_train)\n",
    "        print(f'Porbabilidad inicial de la clase {c}: {probs[c][\"initial\"]:.2f}')\n",
    "\n",
    "        # Calcular la probabilidad condicional\n",
    "        # (contar el número de veces que aparece cada palabra en cada clase y dividirlo por el total)\n",
    "        probs[c]['cond'] = {}\n",
    "        for i, word in enumerate(X_train):\n",
    "            if c not in probs[c]['cond']:\n",
    "                probs[c]['cond'][i] = {}\n",
    "            for j, w in enumerate(word):\n",
    "                if w not in probs[c]['cond'][i]:\n",
    "                    probs[c]['cond'][i][w] = 0\n",
    "                probs[c]['cond'][i][w] += 1\n",
    "    # Calcular la probabilidad condicional\n",
    "    # (dividir el número de veces que aparece cada palabra en cada clase por el total)\n",
    "    # sumar 1 para evitar los ceros\n",
    "    for c in classes:\n",
    "        for i in probs[c]['cond']:\n",
    "            for w in probs[c]['cond'][i]:\n",
    "                probs[c]['cond'][i][w] = (probs[c]['cond'][i][w] + 1) / (np.sum(X_train == w) + 1)\n",
    "    \n",
    "    # Clasificar los datos de prueba\n",
    "    # (calcular la probabilidad de cada clase para cada palabra y seleccionar la clase con la probabilidad más alta)\n",
    "    predictions = []\n",
    "    for i, word in enumerate(X_test):\n",
    "        max_prob = -1\n",
    "        max_class = None\n",
    "        for c in classes:\n",
    "            prob = probs[c]['initial']\n",
    "            for j, w in enumerate(word):\n",
    "                if w in probs[c]['cond'][j]:\n",
    "                    prob *= probs[c]['cond'][j][w]\n",
    "            if prob > max_prob:\n",
    "                max_prob = prob\n",
    "                max_class = c\n",
    "        predictions.append(max_class)\n",
    "    return predictions"
   ],
   "outputs": [],
   "execution_count": 25
  },
  {
   "metadata": {},
   "cell_type": "markdown",
   "source": "# Prueba del algoritmo",
   "id": "2828788046c5435d"
  },
  {
   "metadata": {},
   "cell_type": "markdown",
   "source": "### Usando el dataset de spam de Kaggle",
   "id": "db0860879eb9363f"
  },
  {
   "metadata": {
    "ExecuteTime": {
     "end_time": "2024-12-05T16:23:10.382079Z",
     "start_time": "2024-12-05T16:23:08.496837Z"
    }
   },
   "cell_type": "code",
   "source": [
    "# Descargar ultima version del dataset para deteccion de spam\n",
    "path = kh.dataset_download(\"shantanudhakadd/email-spam-detection-dataset-classification\") + '/spam.csv'\n",
    "\n",
    "# Cargar el dataset\n",
    "data = pd.read_csv(path, encoding='latin-1')\n",
    "data = data[['v1', 'v2']]\n",
    "data.columns = ['label', 'text']\n",
    "data.head()"
   ],
   "id": "f5a03e6843287049",
   "outputs": [
    {
     "data": {
      "text/plain": [
       "  label                                               text\n",
       "0   ham  Go until jurong point, crazy.. Available only ...\n",
       "1   ham                      Ok lar... Joking wif u oni...\n",
       "2  spam  Free entry in 2 a wkly comp to win FA Cup fina...\n",
       "3   ham  U dun say so early hor... U c already then say...\n",
       "4   ham  Nah I don't think he goes to usf, he lives aro..."
      ],
      "text/html": [
       "<div>\n",
       "<style scoped>\n",
       "    .dataframe tbody tr th:only-of-type {\n",
       "        vertical-align: middle;\n",
       "    }\n",
       "\n",
       "    .dataframe tbody tr th {\n",
       "        vertical-align: top;\n",
       "    }\n",
       "\n",
       "    .dataframe thead th {\n",
       "        text-align: right;\n",
       "    }\n",
       "</style>\n",
       "<table border=\"1\" class=\"dataframe\">\n",
       "  <thead>\n",
       "    <tr style=\"text-align: right;\">\n",
       "      <th></th>\n",
       "      <th>label</th>\n",
       "      <th>text</th>\n",
       "    </tr>\n",
       "  </thead>\n",
       "  <tbody>\n",
       "    <tr>\n",
       "      <th>0</th>\n",
       "      <td>ham</td>\n",
       "      <td>Go until jurong point, crazy.. Available only ...</td>\n",
       "    </tr>\n",
       "    <tr>\n",
       "      <th>1</th>\n",
       "      <td>ham</td>\n",
       "      <td>Ok lar... Joking wif u oni...</td>\n",
       "    </tr>\n",
       "    <tr>\n",
       "      <th>2</th>\n",
       "      <td>spam</td>\n",
       "      <td>Free entry in 2 a wkly comp to win FA Cup fina...</td>\n",
       "    </tr>\n",
       "    <tr>\n",
       "      <th>3</th>\n",
       "      <td>ham</td>\n",
       "      <td>U dun say so early hor... U c already then say...</td>\n",
       "    </tr>\n",
       "    <tr>\n",
       "      <th>4</th>\n",
       "      <td>ham</td>\n",
       "      <td>Nah I don't think he goes to usf, he lives aro...</td>\n",
       "    </tr>\n",
       "  </tbody>\n",
       "</table>\n",
       "</div>"
      ]
     },
     "execution_count": 26,
     "metadata": {},
     "output_type": "execute_result"
    }
   ],
   "execution_count": 26
  },
  {
   "metadata": {},
   "cell_type": "markdown",
   "source": "### Procesar el dataset",
   "id": "e4a17012de0c55d0"
  },
  {
   "metadata": {
    "ExecuteTime": {
     "end_time": "2024-12-05T16:23:26.943633Z",
     "start_time": "2024-12-05T16:23:10.385243Z"
    }
   },
   "cell_type": "code",
   "source": [
    "data['text'] = data['text'].str.lower().str.split()\n",
    "X = data['text'].values\n",
    "y = data['label'].values\n",
    "\n",
    "# Dividir el conjunto de datos en train y test\n",
    "X_train, X_test, y_train, y_test = train_test_split(X, y, test_size=0.2, random_state=1)\n",
    "\n",
    "# Clasificar los puntos de prueba\n",
    "y_pred = naive_bayes(X_train, y_train, X_test)"
   ],
   "id": "53f8d6415f36dd2e",
   "outputs": [
    {
     "name": "stdout",
     "output_type": "stream",
     "text": [
      "Porbabilidad inicial de la clase ham: 0.86\n",
      "Porbabilidad inicial de la clase spam: 0.14\n"
     ]
    }
   ],
   "execution_count": 27
  },
  {
   "metadata": {},
   "cell_type": "markdown",
   "source": "### Evaluar el rendimiento del modelo",
   "id": "3059abaebc09987c"
  },
  {
   "metadata": {
    "ExecuteTime": {
     "end_time": "2024-12-05T16:23:26.957781Z",
     "start_time": "2024-12-05T16:23:26.945829Z"
    }
   },
   "cell_type": "code",
   "source": [
    "accuracy = accuracy_score(y_test, y_pred)\n",
    "print(f'Accuracy: {accuracy:.2f}')"
   ],
   "id": "initial_id",
   "outputs": [
    {
     "name": "stdout",
     "output_type": "stream",
     "text": [
      "Accuracy: 0.88\n"
     ]
    }
   ],
   "execution_count": 28
  }
 ],
 "metadata": {
  "kernelspec": {
   "display_name": "Python 3",
   "language": "python",
   "name": "python3"
  },
  "language_info": {
   "codemirror_mode": {
    "name": "ipython",
    "version": 2
   },
   "file_extension": ".py",
   "mimetype": "text/x-python",
   "name": "python",
   "nbconvert_exporter": "python",
   "pygments_lexer": "ipython2",
   "version": "2.7.6"
  }
 },
 "nbformat": 4,
 "nbformat_minor": 5
}
