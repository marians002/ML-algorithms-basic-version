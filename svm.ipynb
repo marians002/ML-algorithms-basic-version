{
 "cells": [
  {
   "metadata": {},
   "cell_type": "markdown",
   "source": [
    "# SVM (Support Vector Machine)\n",
    "\n",
    "#### Recomendado para datasets pequeños.\n",
    "#### El algoritmo busca la mejor línea que separa las clases."
   ],
   "id": "56c5d3a0cc627b82"
  },
  {
   "metadata": {},
   "cell_type": "markdown",
   "source": "Importaciones",
   "id": "f7657133b95063b"
  },
  {
   "metadata": {
    "ExecuteTime": {
     "end_time": "2024-12-08T20:40:44.917756Z",
     "start_time": "2024-12-08T20:40:44.911975Z"
    }
   },
   "cell_type": "code",
   "source": [
    "import numpy as np\n",
    "from sklearn import datasets\n",
    "import matplotlib.pyplot as plt\n",
    "from sklearn.model_selection import train_test_split"
   ],
   "id": "d4831ef138908ce1",
   "outputs": [],
   "execution_count": 234
  },
  {
   "metadata": {},
   "cell_type": "markdown",
   "source": "Definición de la clase SVM",
   "id": "64cf176bb2def0d3"
  },
  {
   "metadata": {
    "ExecuteTime": {
     "end_time": "2024-12-08T20:40:45.049182Z",
     "start_time": "2024-12-08T20:40:45.035701Z"
    }
   },
   "cell_type": "code",
   "source": [
    "class SVM:\n",
    "    \"\"\"\n",
    "    Support Vectors Machine (SVM)\n",
    "\n",
    "    Parameters:\n",
    "    -----------\n",
    "    learning_rate : float, optional (default=0.001)\n",
    "        La tasa de aprendizaje para la actualización de los pesos.\n",
    "    lambda_param : float, optional (default=0.01)\n",
    "        El parámetro de regularización.\n",
    "    n_iters : int, optional (default=1000)\n",
    "        El número de iteraciones para el entrenamiento.\n",
    "\n",
    "    Attributes:\n",
    "    -----------\n",
    "    w : ndarray de forma (n_features,)\n",
    "        Los pesos del modelo SVM.\n",
    "    b : float\n",
    "        El término de sesgo del modelo SVM.\n",
    "    \"\"\"\n",
    "\n",
    "    def __init__(self, learning_rate=0.001, lambda_param=0.01, n_iters=1000):\n",
    "        self.lr = learning_rate\n",
    "        self.lambda_param = lambda_param\n",
    "        self.n_iters = n_iters\n",
    "        self.w = None\n",
    "        self.b = None\n",
    "\n",
    "    def fit(self, X, y):\n",
    "        \"\"\"\n",
    "        Ajusta el modelo SVM según los datos de entrenamiento dados.\n",
    "\n",
    "        Parameters:\n",
    "        -----------\n",
    "        X : ndarray de forma (n_samples, n_features)\n",
    "            Datos de entrenamiento.\n",
    "        y : ndarray de forma (n_samples,)\n",
    "            Valores objetivo.\n",
    "        \"\"\"\n",
    "        n_samples, n_features = X.shape\n",
    "\n",
    "        y_ = np.where(y <= 0, -1, 1)\n",
    "\n",
    "        # Inicializar pesos\n",
    "        self.w = np.zeros(n_features)\n",
    "        self.b = 0\n",
    "\n",
    "        for _ in range(self.n_iters):\n",
    "            for idx, x_i in enumerate(X):\n",
    "                condition = y_[idx] * (np.dot(x_i, self.w) - self.b) >= 1\n",
    "                if condition:\n",
    "                    self.w -= self.lr * (2 * self.lambda_param * self.w)\n",
    "                else:\n",
    "                    self.w -= self.lr * (2 * self.lambda_param * self.w - np.dot(x_i, y_[idx]))\n",
    "                    self.b -= self.lr * y_[idx]\n",
    "\n",
    "    def predict(self, X):\n",
    "        \"\"\"\n",
    "        Realiza la clasificación en las muestras de X.\n",
    "\n",
    "        Parameters:\n",
    "        -----------\n",
    "        X : ndarray de forma (n_samples, n_features)\n",
    "            Datos de entrada.\n",
    "\n",
    "        Returns:\n",
    "        --------\n",
    "        y_pred : ndarray de forma (n_samples,)\n",
    "            Etiquetas de clase predichas para las muestras en X.\n",
    "        \"\"\"\n",
    "        approx = np.dot(X, self.w) - self.b\n",
    "        return np.sign(approx)"
   ],
   "id": "393744771be74e14",
   "outputs": [],
   "execution_count": 235
  },
  {
   "metadata": {},
   "cell_type": "markdown",
   "source": "# Testing",
   "id": "5a2785268ef0e990"
  },
  {
   "metadata": {
    "ExecuteTime": {
     "end_time": "2024-12-08T20:40:45.065136Z",
     "start_time": "2024-12-08T20:40:45.055072Z"
    }
   },
   "cell_type": "code",
   "source": [
    "def accuracy(y_true, y_pred):\n",
    "    \"\"\"\n",
    "    Calcula la precisión de las predicciones\n",
    "\n",
    "    Parameters:\n",
    "    -----------\n",
    "    y_true : ndarray\n",
    "        True labels.\n",
    "    y_pred : ndarray\n",
    "        Predicted labels.\n",
    "\n",
    "    Returns:\n",
    "    --------\n",
    "    float\n",
    "        Precisión de las predicciones\n",
    "    \"\"\"\n",
    "    return np.sum(y_true == y_pred) / len(y_true)\n"
   ],
   "id": "e742be10899376a4",
   "outputs": [],
   "execution_count": 236
  },
  {
   "metadata": {},
   "cell_type": "markdown",
   "source": "Probando la implementación con un dataset de sklearn",
   "id": "6f77d8d92f94b160"
  },
  {
   "metadata": {
    "ExecuteTime": {
     "end_time": "2024-12-08T20:40:46.039050Z",
     "start_time": "2024-12-08T20:40:45.068643Z"
    }
   },
   "cell_type": "code",
   "source": [
    "X, y = datasets.make_blobs(n_samples=250, n_features=2, centers=2, cluster_std=1.45, random_state=40)\n",
    "\n",
    "# Convertir etiquetas a -1 y 1\n",
    "y = np.where(y == 0, -1, 1)\n",
    "\n",
    "X_train, X_test, y_train, y_test = train_test_split(X, y, test_size=0.6)\n",
    "\n",
    "clf = SVM()\n",
    "clf.fit(X_train, y_train)\n",
    "predictions = clf.predict(X_test)\n",
    "\n",
    "print(\"SVM classification accuracy\", accuracy(y_test, predictions))"
   ],
   "id": "8943dc02b74b9c9",
   "outputs": [
    {
     "name": "stdout",
     "output_type": "stream",
     "text": [
      "SVM classification accuracy 0.9933333333333333\n"
     ]
    }
   ],
   "execution_count": 237
  },
  {
   "metadata": {},
   "cell_type": "markdown",
   "source": "# Visualización de los resultados",
   "id": "9e4b55509bb1a400"
  },
  {
   "metadata": {
    "ExecuteTime": {
     "end_time": "2024-12-08T20:40:46.049936Z",
     "start_time": "2024-12-08T20:40:46.044586Z"
    }
   },
   "cell_type": "code",
   "source": [
    "def get_hyperplane_value(x, w, b, offset):\n",
    "    return (-w[0] * x + b + offset) / w[1]"
   ],
   "id": "b6a83c7cd7dc95bd",
   "outputs": [],
   "execution_count": 238
  },
  {
   "metadata": {
    "ExecuteTime": {
     "end_time": "2024-12-08T20:40:46.064316Z",
     "start_time": "2024-12-08T20:40:46.052467Z"
    }
   },
   "cell_type": "code",
   "source": [
    "def visualize_svm(size, colors, background_color):\n",
    "    fig = plt.figure()\n",
    "    ax = fig.add_subplot(1, 1, 1)\n",
    "    ax.set_facecolor(background_color)  # Set the background color\n",
    "    plt.scatter(X[:, 0], X[:, 1], marker=\"o\", c=colors['scatter'])\n",
    "\n",
    "    x0_1 = np.amin(X[:, 0])\n",
    "    x0_2 = np.amax(X[:, 0])\n",
    "\n",
    "    x1_1 = get_hyperplane_value(x0_1, clf.w, clf.b, 0)\n",
    "    x1_2 = get_hyperplane_value(x0_2, clf.w, clf.b, 0)\n",
    "\n",
    "    x1_1_m = get_hyperplane_value(x0_1, clf.w, clf.b, -1)\n",
    "    x1_2_m = get_hyperplane_value(x0_2, clf.w, clf.b, -1)\n",
    "\n",
    "    x1_1_p = get_hyperplane_value(x0_1, clf.w, clf.b, 1)\n",
    "    x1_2_p = get_hyperplane_value(x0_2, clf.w, clf.b, 1)\n",
    "\n",
    "    ax.plot([x0_1, x0_2], [x1_1, x1_2], colors['hyperplane'])\n",
    "    ax.plot([x0_1, x0_2], [x1_1_m, x1_2_m], colors['margin'])\n",
    "    ax.plot([x0_1, x0_2], [x1_1_p, x1_2_p], colors['margin'])\n",
    "\n",
    "    x1_min = np.amin(X[:, 1])\n",
    "    x1_max = np.amax(X[:, 1])\n",
    "    ax.set_ylim([x1_min - 3, x1_max + 3])\n",
    "    # Set plt size\n",
    "    plt.figure(figsize=size)\n",
    "\n",
    "    # Show plot\n",
    "    plt.show()"
   ],
   "id": "600302e16801733b",
   "outputs": [],
   "execution_count": 239
  },
  {
   "metadata": {
    "ExecuteTime": {
     "end_time": "2024-12-08T20:40:46.278509Z",
     "start_time": "2024-12-08T20:40:46.067345Z"
    }
   },
   "cell_type": "code",
   "source": [
    "colors = {\n",
    "    'scatter': 'blue',\n",
    "    'hyperplane': 'red',\n",
    "    'margin': 'black'\n",
    "}\n",
    "visualize_svm(size=(14, 10), colors=colors, background_color='lightgray')"
   ],
   "id": "2e28e02cada31976",
   "outputs": [
    {
     "data": {
      "text/plain": [
       "<Figure size 640x480 with 1 Axes>"
      ],
      "image/png": "[encoded data removed]"
     },
     "metadata": {},
     "output_type": "display_data"
    },
    {
     "data": {
      "text/plain": [
       "<Figure size 1400x1000 with 0 Axes>"
      ]
     },
     "metadata": {},
     "output_type": "display_data"
    }
   ],
   "execution_count": 240
  }
 ],
 "metadata": {
  "kernelspec": {
   "display_name": "Python 3",
   "language": "python",
   "name": "python3"
  },
  "language_info": {
   "codemirror_mode": {
    "name": "ipython",
    "version": 2
   },
   "file_extension": ".py",
   "mimetype": "text/x-python",
   "name": "python",
   "nbconvert_exporter": "python",
   "pygments_lexer": "ipython2",
   "version": "2.7.6"
  }
 },
 "nbformat": 4,
 "nbformat_minor": 5
}
